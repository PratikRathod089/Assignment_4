{
 "cells": [
  {
   "cell_type": "markdown",
   "id": "aeb016b2",
   "metadata": {},
   "source": [
    "### 1.1 Write a Python Program(with class concepts) to find the area of the triangle using the below formula.\n",
    "###  area = (s*(s-a)*(s-b)*(s-c)) *** 0.5\n",
    "### Function to take the length of the sides of triangle from user should be defined in the parentclass and function to calculate the area should be defined in subclass."
   ]
  },
  {
   "cell_type": "code",
   "execution_count": 6,
   "id": "079aff01",
   "metadata": {},
   "outputs": [],
   "source": [
    "class Sides_of_Triangle:\n",
    "    def __init__(self,a,b,c):\n",
    "        self.a = a\n",
    "        self.b = b\n",
    "        self.c = c"
   ]
  },
  {
   "cell_type": "code",
   "execution_count": 7,
   "id": "234cad46",
   "metadata": {},
   "outputs": [],
   "source": [
    "class Area(Sides_of_Triangle):\n",
    "    def area(self):\n",
    "        s = (self.a + self.b +self.c)/2\n",
    "        return (s*(s-self.a)*(s-self.b)*(s-self.c))**0.5"
   ]
  },
  {
   "cell_type": "code",
   "execution_count": 8,
   "id": "c974d1e0",
   "metadata": {},
   "outputs": [
    {
     "name": "stdout",
     "output_type": "stream",
     "text": [
      "Area of triangle : 6.0\n"
     ]
    }
   ],
   "source": [
    "value= Area(3,4,5)\n"
   ]
  },
  {
   "cell_type": "code",
   "execution_count": 10,
   "id": "fb32e535",
   "metadata": {},
   "outputs": [
    {
     "name": "stdout",
     "output_type": "stream",
     "text": [
      "Area of triangle is : 6.0\n"
     ]
    }
   ],
   "source": [
    "print(f\"Area of triangle is : {value.area()}\")"
   ]
  },
  {
   "cell_type": "markdown",
   "id": "950f1a07",
   "metadata": {},
   "source": [
    "### 1.2 Write a function filter_long_words() that takes a list of words and an integer n and returns the list of words that are longer than n."
   ]
  },
  {
   "cell_type": "code",
   "execution_count": 19,
   "id": "a3689e9a",
   "metadata": {},
   "outputs": [
    {
     "name": "stdout",
     "output_type": "stream",
     "text": [
      "['that', 'takes', 'list', 'words', 'integer', 'returns', 'list', 'words']\n"
     ]
    }
   ],
   "source": [
    "def Long_Words(n, string):  \n",
    "    FilteredList = []  \n",
    "    txt = string.split(\" \")  \n",
    "    for x in txt:  \n",
    "        if len(x) > n:  \n",
    "            FilteredList.append(x)  \n",
    "    return FilteredList   \n",
    "print(Long_Words(3, \"that takes a list of words and an integer n and returns the list of words\")) \n",
    "    "
   ]
  },
  {
   "cell_type": "markdown",
   "id": "616cac63",
   "metadata": {},
   "source": [
    "### 2.1 Write a Python program using function concept that maps list of words into a list of integers representing the lengths of the corresponding words."
   ]
  },
  {
   "cell_type": "code",
   "execution_count": 55,
   "id": "39fa4744",
   "metadata": {},
   "outputs": [],
   "source": [
    "def length_of_words(List):\n",
    "    FinalList = []\n",
    "    for i in range (0,len(List)):\n",
    "        FinalList.append(len(List[i]))\n",
    "    return FinalList\n"
   ]
  },
  {
   "cell_type": "code",
   "execution_count": 57,
   "id": "dcf8df3a",
   "metadata": {},
   "outputs": [
    {
     "name": "stdout",
     "output_type": "stream",
     "text": [
      "[6, 7, 5, 8, 7]\n"
     ]
    }
   ],
   "source": [
    "list_of_words = ['python', 'program', 'using', 'function', 'concept']\n",
    "Length_list = length_of_words(list_of_words)\n",
    "print(Length_list)"
   ]
  },
  {
   "cell_type": "markdown",
   "id": "e98bc79d",
   "metadata": {},
   "source": [
    "### 2.2 Write a Python function which takes a character (i.e. a string of length 1) and returns True if it is a vowel, False otherwise."
   ]
  },
  {
   "cell_type": "code",
   "execution_count": 62,
   "id": "1f3a7185",
   "metadata": {},
   "outputs": [],
   "source": [
    "def VOWEL(x):\n",
    "    if len(x)==1:\n",
    "        if x in(\"a\",\"e\",\"i\",\"o\",\"u\",\"A\",\"E\",\"I\",\"O\",\"U\"):\n",
    "            return True\n",
    "        else :\n",
    "            return False\n",
    "    else :\n",
    "        print(\"Please enter only one alphabet\")"
   ]
  },
  {
   "cell_type": "code",
   "execution_count": 64,
   "id": "d57f4379",
   "metadata": {},
   "outputs": [
    {
     "data": {
      "text/plain": [
       "(True, False)"
      ]
     },
     "execution_count": 64,
     "metadata": {},
     "output_type": "execute_result"
    }
   ],
   "source": [
    "VOWEL(\"O\"),VOWEL(\"P\")"
   ]
  },
  {
   "cell_type": "code",
   "execution_count": 67,
   "id": "6919b13b",
   "metadata": {},
   "outputs": [
    {
     "name": "stdout",
     "output_type": "stream",
     "text": [
      "Please enter only one alphabet\n"
     ]
    }
   ],
   "source": [
    "VOWEL(\"JK\")"
   ]
  },
  {
   "cell_type": "code",
   "execution_count": null,
   "id": "0cf3a0f8",
   "metadata": {},
   "outputs": [],
   "source": []
  }
 ],
 "metadata": {
  "kernelspec": {
   "display_name": "Python 3",
   "language": "python",
   "name": "python3"
  },
  "language_info": {
   "codemirror_mode": {
    "name": "ipython",
    "version": 3
   },
   "file_extension": ".py",
   "mimetype": "text/x-python",
   "name": "python",
   "nbconvert_exporter": "python",
   "pygments_lexer": "ipython3",
   "version": "3.8.8"
  }
 },
 "nbformat": 4,
 "nbformat_minor": 5
}
